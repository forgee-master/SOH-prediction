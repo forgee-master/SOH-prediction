{
 "cells": [
  {
   "cell_type": "code",
   "execution_count": 5,
   "metadata": {},
   "outputs": [],
   "source": [
    "import sys\n",
    "sys.path.append(\".\")"
   ]
  },
  {
   "cell_type": "code",
   "execution_count": 6,
   "metadata": {},
   "outputs": [],
   "source": [
    "from scipy.io import loadmat\n",
    "import numpy as np\n",
    "import matplotlib.pyplot as plt"
   ]
  },
  {
   "cell_type": "code",
   "execution_count": 38,
   "metadata": {},
   "outputs": [
    {
     "name": "stdout",
     "output_type": "stream",
     "text": [
      "(3, 389) (1, 389)\n",
      "(3, 406) (1, 406)\n",
      "(3, 392) (1, 392)\n",
      "(3, 395) (1, 395)\n",
      "(3, 402) (1, 402)\n",
      "(3, 407) (1, 407)\n",
      "(3, 401) (1, 401)\n",
      "(3, 419) (1, 419)\n"
     ]
    }
   ],
   "source": [
    "mat = loadmat(\"data/XJTU/charge/batch-1.mat\")\n",
    "battery = mat[\"battery\"]\n",
    "\n",
    "data = []\n",
    "label = []\n",
    "\n",
    "battery.shape # (1,8)\n",
    "\n",
    "for i in range(battery.shape[1]):\n",
    "    cycle_data = battery[0,i][0]\n",
    "    current = cycle_data[\"current_A\"]\n",
    "    voltage = cycle_data[\"voltage_V\"]\n",
    "    temperature = cycle_data[\"temperature_C\"]\n",
    "    charge_cycle = np.concatenate([current, voltage, temperature], axis=0)\n",
    "    data.append(charge_cycle.T)\n",
    "    \n",
    "    capacity = cycle_data[\"capacity\"]\n",
    "    label.append(capacity.T)\n",
    "    \n",
    "    print(charge_cycle.shape, capacity.shape)\n",
    "\n",
    "#data = np.array(data, dtype=np.float32)\n",
    "#label = np.array(label, dtype=np.float32)"
   ]
  },
  {
   "cell_type": "code",
   "execution_count": 40,
   "metadata": {},
   "outputs": [
    {
     "data": {
      "text/plain": [
       "(3211, 3)"
      ]
     },
     "execution_count": 40,
     "metadata": {},
     "output_type": "execute_result"
    }
   ],
   "source": [
    "data = np.vstack(data)\n",
    "data.shape"
   ]
  },
  {
   "cell_type": "code",
   "execution_count": 48,
   "metadata": {},
   "outputs": [
    {
     "data": {
      "text/plain": [
       "(406,)"
      ]
     },
     "execution_count": 48,
     "metadata": {},
     "output_type": "execute_result"
    }
   ],
   "source": [
    "battery[0,1][0][0].shape"
   ]
  },
  {
   "cell_type": "code",
   "execution_count": null,
   "metadata": {},
   "outputs": [],
   "source": []
  }
 ],
 "metadata": {
  "kernelspec": {
   "display_name": ".venv",
   "language": "python",
   "name": "python3"
  },
  "language_info": {
   "codemirror_mode": {
    "name": "ipython",
    "version": 3
   },
   "file_extension": ".py",
   "mimetype": "text/x-python",
   "name": "python",
   "nbconvert_exporter": "python",
   "pygments_lexer": "ipython3",
   "version": "3.12.1"
  }
 },
 "nbformat": 4,
 "nbformat_minor": 2
}
