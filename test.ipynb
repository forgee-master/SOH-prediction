{
 "cells": [
  {
   "cell_type": "code",
   "execution_count": 1,
   "metadata": {},
   "outputs": [],
   "source": [
    "import sys\n",
    "sys.path.append(\".\")"
   ]
  },
  {
   "cell_type": "code",
   "execution_count": 2,
   "metadata": {},
   "outputs": [],
   "source": [
    "from scipy.io import loadmat\n",
    "import numpy as np\n",
    "import matplotlib.pyplot as plt"
   ]
  },
  {
   "cell_type": "code",
   "execution_count": 6,
   "metadata": {},
   "outputs": [
    {
     "data": {
      "text/plain": [
       "(1, 8)"
      ]
     },
     "execution_count": 6,
     "metadata": {},
     "output_type": "execute_result"
    }
   ],
   "source": [
    "mat = loadmat(\"data/XJTU/charge/batch-1.mat\")\n",
    "battery = mat[\"battery\"]\n",
    "\n",
    "battery.shape"
   ]
  },
  {
   "cell_type": "code",
   "execution_count": 34,
   "metadata": {},
   "outputs": [],
   "source": [
    "batch1 = battery[0,0][0]\n",
    "cycle = batch1[0,0]"
   ]
  },
  {
   "cell_type": "code",
   "execution_count": 51,
   "metadata": {},
   "outputs": [
    {
     "data": {
      "text/plain": [
       "array([[ 0.        ],\n",
       "       [ 0.41364567],\n",
       "       [ 0.82729134],\n",
       "       [ 1.24093701],\n",
       "       [ 1.65458268],\n",
       "       [ 2.06822835],\n",
       "       [ 2.48187402],\n",
       "       [ 2.89551969],\n",
       "       [ 3.30916535],\n",
       "       [ 3.72281102],\n",
       "       [ 4.13645669],\n",
       "       [ 4.55010236],\n",
       "       [ 4.96374803],\n",
       "       [ 5.3773937 ],\n",
       "       [ 5.79103937],\n",
       "       [ 6.20468504],\n",
       "       [ 6.61833071],\n",
       "       [ 7.03197638],\n",
       "       [ 7.44562205],\n",
       "       [ 7.85926772],\n",
       "       [ 8.27291339],\n",
       "       [ 8.68655906],\n",
       "       [ 9.10020472],\n",
       "       [ 9.51385039],\n",
       "       [ 9.92749606],\n",
       "       [10.34114173],\n",
       "       [10.7547874 ],\n",
       "       [11.16843307],\n",
       "       [11.58207874],\n",
       "       [11.99572441],\n",
       "       [12.40937008],\n",
       "       [12.82301575],\n",
       "       [13.23666142],\n",
       "       [13.65030709],\n",
       "       [14.06395276],\n",
       "       [14.47759843],\n",
       "       [14.89124409],\n",
       "       [15.30488976],\n",
       "       [15.71853543],\n",
       "       [16.1321811 ],\n",
       "       [16.54582677],\n",
       "       [16.95947244],\n",
       "       [17.37311811],\n",
       "       [17.78676378],\n",
       "       [18.20040945],\n",
       "       [18.61405512],\n",
       "       [19.02770079],\n",
       "       [19.44134646],\n",
       "       [19.85499213],\n",
       "       [20.2686378 ],\n",
       "       [20.68228346],\n",
       "       [21.09592913],\n",
       "       [21.5095748 ],\n",
       "       [21.92322047],\n",
       "       [22.33686614],\n",
       "       [22.75051181],\n",
       "       [23.16415748],\n",
       "       [23.57780315],\n",
       "       [23.99144882],\n",
       "       [24.40509449],\n",
       "       [24.81874016],\n",
       "       [25.23238583],\n",
       "       [25.6460315 ],\n",
       "       [26.05967717],\n",
       "       [26.47332283],\n",
       "       [26.8869685 ],\n",
       "       [27.30061417],\n",
       "       [27.71425984],\n",
       "       [28.12790551],\n",
       "       [28.54155118],\n",
       "       [28.95519685],\n",
       "       [29.36884252],\n",
       "       [29.78248819],\n",
       "       [30.19613386],\n",
       "       [30.60977953],\n",
       "       [31.0234252 ],\n",
       "       [31.43707087],\n",
       "       [31.85071654],\n",
       "       [32.2643622 ],\n",
       "       [32.67800787],\n",
       "       [33.09165354],\n",
       "       [33.50529921],\n",
       "       [33.91894488],\n",
       "       [34.33259055],\n",
       "       [34.74623622],\n",
       "       [35.15988189],\n",
       "       [35.57352756],\n",
       "       [35.98717323],\n",
       "       [36.4008189 ],\n",
       "       [36.81446457],\n",
       "       [37.22811024],\n",
       "       [37.64175591],\n",
       "       [38.05540157],\n",
       "       [38.46904724],\n",
       "       [38.88269291],\n",
       "       [39.29633858],\n",
       "       [39.70998425],\n",
       "       [40.12362992],\n",
       "       [40.53727559],\n",
       "       [40.95092126],\n",
       "       [41.36456693],\n",
       "       [41.7782126 ],\n",
       "       [42.19185827],\n",
       "       [42.60550394],\n",
       "       [43.01914961],\n",
       "       [43.43279528],\n",
       "       [43.84644094],\n",
       "       [44.26008661],\n",
       "       [44.67373228],\n",
       "       [45.08737795],\n",
       "       [45.50102362],\n",
       "       [45.91466929],\n",
       "       [46.32831496],\n",
       "       [46.74196063],\n",
       "       [47.1556063 ],\n",
       "       [47.56925197],\n",
       "       [47.98289764],\n",
       "       [48.39654331],\n",
       "       [48.81018898],\n",
       "       [49.22383465],\n",
       "       [49.63748031],\n",
       "       [50.05112598],\n",
       "       [50.46477165],\n",
       "       [50.87841732],\n",
       "       [51.29206299],\n",
       "       [51.70570866],\n",
       "       [52.11935433],\n",
       "       [52.533     ]])"
      ]
     },
     "execution_count": 51,
     "metadata": {},
     "output_type": "execute_result"
    }
   ],
   "source": [
    "value = cycle[\"relative_time_min\"].reshape(-1,1)\n",
    "\n",
    "value"
   ]
  },
  {
   "cell_type": "code",
   "execution_count": 50,
   "metadata": {},
   "outputs": [
    {
     "data": {
      "image/png": "[encoded data removed]",
      "text/plain": [
       "<Figure size 640x480 with 1 Axes>"
      ]
     },
     "metadata": {},
     "output_type": "display_data"
    }
   ],
   "source": [
    "plt.figure()\n",
    "plt.plot(value)\n",
    "plt.show()"
   ]
  },
  {
   "cell_type": "code",
   "execution_count": null,
   "metadata": {},
   "outputs": [],
   "source": []
  }
 ],
 "metadata": {
  "kernelspec": {
   "display_name": ".venv",
   "language": "python",
   "name": "python3"
  },
  "language_info": {
   "codemirror_mode": {
    "name": "ipython",
    "version": 3
   },
   "file_extension": ".py",
   "mimetype": "text/x-python",
   "name": "python",
   "nbconvert_exporter": "python",
   "pygments_lexer": "ipython3",
   "version": "3.12.1"
  }
 },
 "nbformat": 4,
 "nbformat_minor": 2
}
